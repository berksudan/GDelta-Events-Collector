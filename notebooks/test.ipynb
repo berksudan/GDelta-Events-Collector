{
 "cells": [
  {
   "cell_type": "code",
   "execution_count": 84,
   "metadata": {},
   "outputs": [],
   "source": [
    "import os # TODO: delete in .py\n",
    "os.chdir(\"/home/iceking/Desktop/Fusionbase-Project\") # TODO: delete in .py"
   ]
  },
  {
   "cell_type": "code",
   "execution_count": 114,
   "metadata": {},
   "outputs": [],
   "source": [
    "GDELTA_LAST_UPDATE_URL = 'http://data.gdeltproject.org/gdeltv2/lastupdate.txt'\n",
    "GDELTA_EVENTS_DIR = 'data/gdelta_events'"
   ]
  },
  {
   "cell_type": "code",
   "execution_count": 118,
   "metadata": {},
   "outputs": [],
   "source": [
    "def extract_latest_events_zip_url(gdelta_last_update_url:str) -> str:\n",
    "    gdelta_latest_links_with_metadata = requests.get(gdelta_last_update_url).text\n",
    "    events_link_with_metadata = gdelta_latest_links_with_metadata.splitlines()[0]\n",
    "    return events_link_with_metadata.split(' ')[-1]"
   ]
  },
  {
   "cell_type": "code",
   "execution_count": 119,
   "metadata": {},
   "outputs": [],
   "source": [
    "events_zip_url = extract_latest_events_zip_url(gdelta_last_update_url = GDELTA_LAST_UPDATE_URL)"
   ]
  },
  {
   "cell_type": "code",
   "execution_count": 120,
   "metadata": {},
   "outputs": [
    {
     "data": {
      "text/plain": [
       "'http://data.gdeltproject.org/gdeltv2/20210817211500.export.CSV.zip'"
      ]
     },
     "execution_count": 120,
     "metadata": {},
     "output_type": "execute_result"
    }
   ],
   "source": [
    "events_zip_url"
   ]
  },
  {
   "cell_type": "code",
   "execution_count": 89,
   "metadata": {},
   "outputs": [],
   "source": [
    "events_zip_filename = events_zip_url.split('/')[-1]"
   ]
  },
  {
   "cell_type": "code",
   "execution_count": 90,
   "metadata": {},
   "outputs": [
    {
     "data": {
      "text/plain": [
       "'20210817204500.export.CSV.zip'"
      ]
     },
     "execution_count": 90,
     "metadata": {},
     "output_type": "execute_result"
    }
   ],
   "source": [
    "events_zip_filename"
   ]
  },
  {
   "cell_type": "code",
   "execution_count": 91,
   "metadata": {},
   "outputs": [],
   "source": [
    "with open(f'{GDELTA_EVENTS_DIR}/{events_zip_filename}','wb') as fp:\n",
    "    fp.write(requests.get(events_zip_url).content)"
   ]
  },
  {
   "cell_type": "code",
   "execution_count": 92,
   "metadata": {},
   "outputs": [],
   "source": [
    "events_filename = events_zip_filename.replace(\".zip\",\"\")\n",
    "\n",
    "with zipfile.ZipFile(f'{GDELTA_EVENTS_DIR}/{events_zip_filename}') as zip_ref:\n",
    "    zip_ref.extract(member=events_zip_filename.replace(\".zip\",\"\"),path=GDELTA_EVENTS_DIR)\n"
   ]
  },
  {
   "cell_type": "code",
   "execution_count": 66,
   "metadata": {},
   "outputs": [],
   "source": [
    "events_filepath = GDELTA_EVENTS_DIR + '/' + events_filename"
   ]
  },
  {
   "cell_type": "code",
   "execution_count": 67,
   "metadata": {},
   "outputs": [],
   "source": [
    "df_events = pd.read_csv(events_filepath,sep='\\t',header=None)"
   ]
  },
  {
   "cell_type": "code",
   "execution_count": 68,
   "metadata": {},
   "outputs": [],
   "source": [
    "zero_padding_size = len(str(df_events.shape[1]))"
   ]
  },
  {
   "cell_type": "code",
   "execution_count": 69,
   "metadata": {},
   "outputs": [],
   "source": [
    "df_events = df_events.rename(columns = {i: str(i).zfill(zero_padding_size) for i in df_events.columns})\n"
   ]
  },
  {
   "cell_type": "code",
   "execution_count": 70,
   "metadata": {},
   "outputs": [],
   "source": [
    "events_parquet_filepath = events_filepath.replace('.CSV','.parquet')"
   ]
  },
  {
   "cell_type": "code",
   "execution_count": 71,
   "metadata": {
    "scrolled": true
   },
   "outputs": [
    {
     "data": {
      "text/plain": [
       "'data/gdelta_events/20210817194500.export.parquet'"
      ]
     },
     "execution_count": 71,
     "metadata": {},
     "output_type": "execute_result"
    }
   ],
   "source": [
    "events_parquet_filepath"
   ]
  },
  {
   "cell_type": "code",
   "execution_count": 97,
   "metadata": {},
   "outputs": [],
   "source": [
    "df = pd.read_parquet(events_parquet_filepath)"
   ]
  },
  {
   "cell_type": "code",
   "execution_count": 110,
   "metadata": {},
   "outputs": [],
   "source": [
    "merged_events_filepath = 'data/gdelta_events/merged.parquet'"
   ]
  },
  {
   "cell_type": "code",
   "execution_count": 129,
   "metadata": {},
   "outputs": [
    {
     "data": {
      "text/html": [
       "<div>\n",
       "<style scoped>\n",
       "    .dataframe tbody tr th:only-of-type {\n",
       "        vertical-align: middle;\n",
       "    }\n",
       "\n",
       "    .dataframe tbody tr th {\n",
       "        vertical-align: top;\n",
       "    }\n",
       "\n",
       "    .dataframe thead th {\n",
       "        text-align: right;\n",
       "    }\n",
       "</style>\n",
       "<table border=\"1\" class=\"dataframe\">\n",
       "  <thead>\n",
       "    <tr style=\"text-align: right;\">\n",
       "      <th></th>\n",
       "      <th>00</th>\n",
       "      <th>01</th>\n",
       "      <th>02</th>\n",
       "      <th>03</th>\n",
       "      <th>04</th>\n",
       "      <th>05</th>\n",
       "      <th>06</th>\n",
       "      <th>07</th>\n",
       "      <th>08</th>\n",
       "      <th>09</th>\n",
       "      <th>...</th>\n",
       "      <th>51</th>\n",
       "      <th>52</th>\n",
       "      <th>53</th>\n",
       "      <th>54</th>\n",
       "      <th>55</th>\n",
       "      <th>56</th>\n",
       "      <th>57</th>\n",
       "      <th>58</th>\n",
       "      <th>59</th>\n",
       "      <th>60</th>\n",
       "    </tr>\n",
       "  </thead>\n",
       "  <tbody>\n",
       "    <tr>\n",
       "      <th>0</th>\n",
       "      <td>999878046</td>\n",
       "      <td>20200819</td>\n",
       "      <td>202008</td>\n",
       "      <td>2020</td>\n",
       "      <td>2020.6274</td>\n",
       "      <td>None</td>\n",
       "      <td>None</td>\n",
       "      <td>None</td>\n",
       "      <td>None</td>\n",
       "      <td>None</td>\n",
       "      <td>...</td>\n",
       "      <td>3</td>\n",
       "      <td>Leesburg, Florida, United States</td>\n",
       "      <td>US</td>\n",
       "      <td>USFL</td>\n",
       "      <td>FL069</td>\n",
       "      <td>28.810800</td>\n",
       "      <td>-81.8779</td>\n",
       "      <td>285440</td>\n",
       "      <td>20210819100000</td>\n",
       "      <td>https://www.dailycommercial.com/story/news/loc...</td>\n",
       "    </tr>\n",
       "    <tr>\n",
       "      <th>1</th>\n",
       "      <td>999878047</td>\n",
       "      <td>20200819</td>\n",
       "      <td>202008</td>\n",
       "      <td>2020</td>\n",
       "      <td>2020.6274</td>\n",
       "      <td>AFGINSTAL</td>\n",
       "      <td>TALIBAN</td>\n",
       "      <td>AFG</td>\n",
       "      <td>TAL</td>\n",
       "      <td>None</td>\n",
       "      <td>...</td>\n",
       "      <td>1</td>\n",
       "      <td>Afghanistan</td>\n",
       "      <td>AF</td>\n",
       "      <td>AF</td>\n",
       "      <td>None</td>\n",
       "      <td>33.000000</td>\n",
       "      <td>66.0000</td>\n",
       "      <td>AF</td>\n",
       "      <td>20210819100000</td>\n",
       "      <td>https://www.msn.com/en-us/news/world/talibans-...</td>\n",
       "    </tr>\n",
       "    <tr>\n",
       "      <th>2</th>\n",
       "      <td>999878048</td>\n",
       "      <td>20200819</td>\n",
       "      <td>202008</td>\n",
       "      <td>2020</td>\n",
       "      <td>2020.6274</td>\n",
       "      <td>AUS</td>\n",
       "      <td>AUSTRALIA</td>\n",
       "      <td>AUS</td>\n",
       "      <td>None</td>\n",
       "      <td>None</td>\n",
       "      <td>...</td>\n",
       "      <td>1</td>\n",
       "      <td>China</td>\n",
       "      <td>CH</td>\n",
       "      <td>CH</td>\n",
       "      <td>None</td>\n",
       "      <td>35.000000</td>\n",
       "      <td>105.0000</td>\n",
       "      <td>CH</td>\n",
       "      <td>20210819100000</td>\n",
       "      <td>https://www.bnnbloomberg.ca/australia-s-partne...</td>\n",
       "    </tr>\n",
       "    <tr>\n",
       "      <th>3</th>\n",
       "      <td>999878049</td>\n",
       "      <td>20200819</td>\n",
       "      <td>202008</td>\n",
       "      <td>2020</td>\n",
       "      <td>2020.6274</td>\n",
       "      <td>EDU</td>\n",
       "      <td>SCHOOL</td>\n",
       "      <td>None</td>\n",
       "      <td>None</td>\n",
       "      <td>None</td>\n",
       "      <td>...</td>\n",
       "      <td>3</td>\n",
       "      <td>Alachua, Florida, United States</td>\n",
       "      <td>US</td>\n",
       "      <td>USFL</td>\n",
       "      <td>FL001</td>\n",
       "      <td>29.751600</td>\n",
       "      <td>-82.4248</td>\n",
       "      <td>307629</td>\n",
       "      <td>20210819100000</td>\n",
       "      <td>https://www.washingtonpost.com/education/2021/...</td>\n",
       "    </tr>\n",
       "    <tr>\n",
       "      <th>4</th>\n",
       "      <td>999878050</td>\n",
       "      <td>20200819</td>\n",
       "      <td>202008</td>\n",
       "      <td>2020</td>\n",
       "      <td>2020.6274</td>\n",
       "      <td>EDU</td>\n",
       "      <td>SCHOOL</td>\n",
       "      <td>None</td>\n",
       "      <td>None</td>\n",
       "      <td>None</td>\n",
       "      <td>...</td>\n",
       "      <td>3</td>\n",
       "      <td>Alachua, Florida, United States</td>\n",
       "      <td>US</td>\n",
       "      <td>USFL</td>\n",
       "      <td>FL001</td>\n",
       "      <td>29.751600</td>\n",
       "      <td>-82.4248</td>\n",
       "      <td>307629</td>\n",
       "      <td>20210819100000</td>\n",
       "      <td>https://www.washingtonpost.com/education/2021/...</td>\n",
       "    </tr>\n",
       "    <tr>\n",
       "      <th>...</th>\n",
       "      <td>...</td>\n",
       "      <td>...</td>\n",
       "      <td>...</td>\n",
       "      <td>...</td>\n",
       "      <td>...</td>\n",
       "      <td>...</td>\n",
       "      <td>...</td>\n",
       "      <td>...</td>\n",
       "      <td>...</td>\n",
       "      <td>...</td>\n",
       "      <td>...</td>\n",
       "      <td>...</td>\n",
       "      <td>...</td>\n",
       "      <td>...</td>\n",
       "      <td>...</td>\n",
       "      <td>...</td>\n",
       "      <td>...</td>\n",
       "      <td>...</td>\n",
       "      <td>...</td>\n",
       "      <td>...</td>\n",
       "      <td>...</td>\n",
       "    </tr>\n",
       "    <tr>\n",
       "      <th>1368</th>\n",
       "      <td>999879414</td>\n",
       "      <td>20210819</td>\n",
       "      <td>202108</td>\n",
       "      <td>2021</td>\n",
       "      <td>2021.6274</td>\n",
       "      <td>pus</td>\n",
       "      <td>PASHTUN</td>\n",
       "      <td>None</td>\n",
       "      <td>None</td>\n",
       "      <td>pus</td>\n",
       "      <td>...</td>\n",
       "      <td>4</td>\n",
       "      <td>Kabul, Kabol, Afghanistan</td>\n",
       "      <td>AF</td>\n",
       "      <td>AF13</td>\n",
       "      <td>3580</td>\n",
       "      <td>34.516700</td>\n",
       "      <td>69.1833</td>\n",
       "      <td>-3378435</td>\n",
       "      <td>20210819100000</td>\n",
       "      <td>https://www.newsweek.com/2021/09/03/after-afgh...</td>\n",
       "    </tr>\n",
       "    <tr>\n",
       "      <th>1369</th>\n",
       "      <td>999879415</td>\n",
       "      <td>20210819</td>\n",
       "      <td>202108</td>\n",
       "      <td>2021</td>\n",
       "      <td>2021.6274</td>\n",
       "      <td>ran</td>\n",
       "      <td>RANA</td>\n",
       "      <td>None</td>\n",
       "      <td>None</td>\n",
       "      <td>ran</td>\n",
       "      <td>...</td>\n",
       "      <td>4</td>\n",
       "      <td>Bamiyan, Bamian, Afghanistan</td>\n",
       "      <td>AF</td>\n",
       "      <td>AF05</td>\n",
       "      <td>3493</td>\n",
       "      <td>34.821600</td>\n",
       "      <td>67.8273</td>\n",
       "      <td>-3370070</td>\n",
       "      <td>20210819100000</td>\n",
       "      <td>https://www.freepressjournal.in/viral/taliban-...</td>\n",
       "    </tr>\n",
       "    <tr>\n",
       "      <th>1370</th>\n",
       "      <td>999879416</td>\n",
       "      <td>20210819</td>\n",
       "      <td>202108</td>\n",
       "      <td>2021</td>\n",
       "      <td>2021.6274</td>\n",
       "      <td>sco</td>\n",
       "      <td>SCOTTISH</td>\n",
       "      <td>None</td>\n",
       "      <td>None</td>\n",
       "      <td>sco</td>\n",
       "      <td>...</td>\n",
       "      <td>1</td>\n",
       "      <td>United States</td>\n",
       "      <td>US</td>\n",
       "      <td>US</td>\n",
       "      <td>None</td>\n",
       "      <td>39.828175</td>\n",
       "      <td>-98.5795</td>\n",
       "      <td>US</td>\n",
       "      <td>20210819100000</td>\n",
       "      <td>https://meaww.com/who-daniel-craig-children-fo...</td>\n",
       "    </tr>\n",
       "    <tr>\n",
       "      <th>1371</th>\n",
       "      <td>999879417</td>\n",
       "      <td>20210819</td>\n",
       "      <td>202108</td>\n",
       "      <td>2021</td>\n",
       "      <td>2021.6274</td>\n",
       "      <td>tms</td>\n",
       "      <td>TAMA</td>\n",
       "      <td>None</td>\n",
       "      <td>None</td>\n",
       "      <td>tms</td>\n",
       "      <td>...</td>\n",
       "      <td>3</td>\n",
       "      <td>Boston, Massachusetts, United States</td>\n",
       "      <td>US</td>\n",
       "      <td>USMA</td>\n",
       "      <td>MA025</td>\n",
       "      <td>42.358400</td>\n",
       "      <td>-71.0598</td>\n",
       "      <td>617565</td>\n",
       "      <td>20210819100000</td>\n",
       "      <td>http://www.msn.com/en-us/news/us/need-to-be-on...</td>\n",
       "    </tr>\n",
       "    <tr>\n",
       "      <th>1372</th>\n",
       "      <td>999879418</td>\n",
       "      <td>20210819</td>\n",
       "      <td>202108</td>\n",
       "      <td>2021</td>\n",
       "      <td>2021.6274</td>\n",
       "      <td>tms</td>\n",
       "      <td>TAMA</td>\n",
       "      <td>None</td>\n",
       "      <td>None</td>\n",
       "      <td>tms</td>\n",
       "      <td>...</td>\n",
       "      <td>2</td>\n",
       "      <td>Florida, United States</td>\n",
       "      <td>US</td>\n",
       "      <td>USFL</td>\n",
       "      <td>None</td>\n",
       "      <td>27.833300</td>\n",
       "      <td>-81.7170</td>\n",
       "      <td>FL</td>\n",
       "      <td>20210819100000</td>\n",
       "      <td>http://www.msn.com/en-us/news/us/need-to-be-on...</td>\n",
       "    </tr>\n",
       "  </tbody>\n",
       "</table>\n",
       "<p>1373 rows × 61 columns</p>\n",
       "</div>"
      ],
      "text/plain": [
       "             00        01      02    03         04         05         06  \\\n",
       "0     999878046  20200819  202008  2020  2020.6274       None       None   \n",
       "1     999878047  20200819  202008  2020  2020.6274  AFGINSTAL    TALIBAN   \n",
       "2     999878048  20200819  202008  2020  2020.6274        AUS  AUSTRALIA   \n",
       "3     999878049  20200819  202008  2020  2020.6274        EDU     SCHOOL   \n",
       "4     999878050  20200819  202008  2020  2020.6274        EDU     SCHOOL   \n",
       "...         ...       ...     ...   ...        ...        ...        ...   \n",
       "1368  999879414  20210819  202108  2021  2021.6274        pus    PASHTUN   \n",
       "1369  999879415  20210819  202108  2021  2021.6274        ran       RANA   \n",
       "1370  999879416  20210819  202108  2021  2021.6274        sco   SCOTTISH   \n",
       "1371  999879417  20210819  202108  2021  2021.6274        tms       TAMA   \n",
       "1372  999879418  20210819  202108  2021  2021.6274        tms       TAMA   \n",
       "\n",
       "        07    08    09  ... 51                                    52  53  \\\n",
       "0     None  None  None  ...  3      Leesburg, Florida, United States  US   \n",
       "1      AFG   TAL  None  ...  1                           Afghanistan  AF   \n",
       "2      AUS  None  None  ...  1                                 China  CH   \n",
       "3     None  None  None  ...  3       Alachua, Florida, United States  US   \n",
       "4     None  None  None  ...  3       Alachua, Florida, United States  US   \n",
       "...    ...   ...   ...  ... ..                                   ...  ..   \n",
       "1368  None  None   pus  ...  4             Kabul, Kabol, Afghanistan  AF   \n",
       "1369  None  None   ran  ...  4          Bamiyan, Bamian, Afghanistan  AF   \n",
       "1370  None  None   sco  ...  1                         United States  US   \n",
       "1371  None  None   tms  ...  3  Boston, Massachusetts, United States  US   \n",
       "1372  None  None   tms  ...  2                Florida, United States  US   \n",
       "\n",
       "        54     55         56        57        58              59  \\\n",
       "0     USFL  FL069  28.810800  -81.8779    285440  20210819100000   \n",
       "1       AF   None  33.000000   66.0000        AF  20210819100000   \n",
       "2       CH   None  35.000000  105.0000        CH  20210819100000   \n",
       "3     USFL  FL001  29.751600  -82.4248    307629  20210819100000   \n",
       "4     USFL  FL001  29.751600  -82.4248    307629  20210819100000   \n",
       "...    ...    ...        ...       ...       ...             ...   \n",
       "1368  AF13   3580  34.516700   69.1833  -3378435  20210819100000   \n",
       "1369  AF05   3493  34.821600   67.8273  -3370070  20210819100000   \n",
       "1370    US   None  39.828175  -98.5795        US  20210819100000   \n",
       "1371  USMA  MA025  42.358400  -71.0598    617565  20210819100000   \n",
       "1372  USFL   None  27.833300  -81.7170        FL  20210819100000   \n",
       "\n",
       "                                                     60  \n",
       "0     https://www.dailycommercial.com/story/news/loc...  \n",
       "1     https://www.msn.com/en-us/news/world/talibans-...  \n",
       "2     https://www.bnnbloomberg.ca/australia-s-partne...  \n",
       "3     https://www.washingtonpost.com/education/2021/...  \n",
       "4     https://www.washingtonpost.com/education/2021/...  \n",
       "...                                                 ...  \n",
       "1368  https://www.newsweek.com/2021/09/03/after-afgh...  \n",
       "1369  https://www.freepressjournal.in/viral/taliban-...  \n",
       "1370  https://meaww.com/who-daniel-craig-children-fo...  \n",
       "1371  http://www.msn.com/en-us/news/us/need-to-be-on...  \n",
       "1372  http://www.msn.com/en-us/news/us/need-to-be-on...  \n",
       "\n",
       "[1373 rows x 61 columns]"
      ]
     },
     "execution_count": 129,
     "metadata": {},
     "output_type": "execute_result"
    }
   ],
   "source": [
    "pd.read_parquet(merged_events_filepath)"
   ]
  },
  {
   "cell_type": "code",
   "execution_count": null,
   "metadata": {},
   "outputs": [],
   "source": []
  }
 ],
 "metadata": {
  "kernelspec": {
   "display_name": "fusionbase_project",
   "language": "python",
   "name": "fusionbase_project"
  },
  "language_info": {
   "codemirror_mode": {
    "name": "ipython",
    "version": 3
   },
   "file_extension": ".py",
   "mimetype": "text/x-python",
   "name": "python",
   "nbconvert_exporter": "python",
   "pygments_lexer": "ipython3",
   "version": "3.8.10"
  }
 },
 "nbformat": 4,
 "nbformat_minor": 4
}
